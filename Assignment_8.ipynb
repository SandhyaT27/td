{
 "cells": [
  {
   "cell_type": "markdown",
   "metadata": {},
   "source": [
    "1.\tA crime is committed by one of two suspects, A and B. Initially, there is equal evidence against both of them. In further investigation at the crime scene, it is found that the guilty party had a blood type found in 10% of the population. Suspect A does match this blood type, whereas the blood type of Suspect B is unknown. (a) Given this new information, what is the probability that A is the guilty party? "
   ]
  },
  {
   "cell_type": "code",
   "execution_count": null,
   "metadata": {},
   "outputs": [],
   "source": [
    "M :event that A's blood type matches the guilty party\"s\n",
    "A for A is guilty\n",
    "B for B is guilty\n",
    "\n",
    "We have P(M|B)=1/10 since, given that B is guilty, the probability that A’s blood type matches the guilty party’s is the same \n",
    "probability as for the general population.\n",
    "By Baye's Rule :\n",
    "P(A|M)=(1/2)/(1/2(1+1/10))\n",
    "      =10/11\n"
   ]
  },
  {
   "cell_type": "markdown",
   "metadata": {},
   "source": [
    "(b) Given this new information, what is the probability that B’s blood type matches that found at the crime scene?"
   ]
  },
  {
   "cell_type": "code",
   "execution_count": null,
   "metadata": {},
   "outputs": [],
   "source": [
    "Let C be the event that B blood type matches:\n",
    "    P(C|M)=(1/10*10/11)+1/11\n",
    "          =2/11"
   ]
  }
 ],
 "metadata": {
  "kernelspec": {
   "display_name": "Python 3",
   "language": "python",
   "name": "python3"
  },
  "language_info": {
   "codemirror_mode": {
    "name": "ipython",
    "version": 3
   },
   "file_extension": ".py",
   "mimetype": "text/x-python",
   "name": "python",
   "nbconvert_exporter": "python",
   "pygments_lexer": "ipython3",
   "version": "3.8.3"
  }
 },
 "nbformat": 4,
 "nbformat_minor": 4
}
