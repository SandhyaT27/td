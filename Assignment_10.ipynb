{
 "cells": [
  {
   "cell_type": "markdown",
   "metadata": {},
   "source": [
    "1.\tA chicken lays n eggs. Each egg independently does or doesn’t hatch, with probability p of hatching. For each egg that hatches, the chick does or doesn’t survive (independently of the other eggs), with probability s of survival. Let N ⇠Bin(n, p) be the number of eggs which hatch, X be the number of chicks which survive, and Y be the number of chicks which hatch but don’t survive (so X + Y = N). Find the marginal PMF of X, and the joint PMF of X and Y . Are they independent?"
   ]
  },
  {
   "cell_type": "code",
   "execution_count": null,
   "metadata": {},
   "outputs": [],
   "source": [
    "Here X and Y are not independent\n",
    "herethe extreme case is :if x=n then clearly Y=0\n",
    "So they are not independent:\n",
    "P(Y=0)<1   while P(Y=0|x=n)=1\n",
    "\n",
    "\n",
    "If we let Z be the number of eggs which don’t hatch, then  we have that (X, Y, Z) has a Multinomial(n,(ps, p(1 s),(1 p)) \n",
    "distribution, which makes sense intuitively since each egg independently falls into 1 of 3 categories: hatch-and-survive, \n",
    "hatch-and-don’t-survive, and don’t-hatch, with probabilities ps, p(1 s), 1 p respectively.\n",
    "\n",
    "\n"
   ]
  }
 ],
 "metadata": {
  "kernelspec": {
   "display_name": "Python 3",
   "language": "python",
   "name": "python3"
  },
  "language_info": {
   "codemirror_mode": {
    "name": "ipython",
    "version": 3
   },
   "file_extension": ".py",
   "mimetype": "text/x-python",
   "name": "python",
   "nbconvert_exporter": "python",
   "pygments_lexer": "ipython3",
   "version": "3.8.3"
  }
 },
 "nbformat": 4,
 "nbformat_minor": 4
}
