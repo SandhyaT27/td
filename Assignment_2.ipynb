{
 "cells": [
  {
   "cell_type": "markdown",
   "metadata": {},
   "source": [
    "# 1.\tRaindrops are falling at an average rate of 20 drops per square inch per minute. What would be a reasonable distribution to use for the number of raindrops hitting a particular region measuring 5 inches2 in t minutes? Why? Using your chosen distribution, compute the probability that the region has no rain drops in a given 3 second time interval. A reasonable choice of distribution is P"
   ]
  },
  {
   "cell_type": "markdown",
   "metadata": {},
   "source": [
    " Observation: There is a count variable which is discrete(falling rate of rain drops per square inch) and a time element.\n",
    "The reasonable distribution to use is Poisson Distribution.\n",
    "Reasons:\n",
    "1)Here event of our interest: average falling rate of rain drops defined over region measuring 5 sq inches in t minutes\n",
    "2)The number of events occuring are entirely independent of each other\n",
    "3)The probability is very small.\n",
    "4)The probability that an event occurs in one time interval is same for all other time intervals\n",
    "# Solution:\n",
    "From the given data average rate of rain drops falling is 20 drops per square inch per minute\n",
    "Let's find out the mean = lambda  for one minute for 5 square inches = 20*5*1 = 100 drops\n",
    "                          lambda for t minutes for 5 sqaure inches   = 20*5*t drops    ......(a)\n",
    "We are supposed to find the probability for 3 second time interval for 5 square inches\n",
    "                     1 min = 60 sec\n",
    "                     x min = 03 sec\n",
    "                     calculating x : x = 3/60=1/20 min .....(b)\n",
    "we need to calculate the probability for 1/20 min                     \n",
    "              From (a) and (b)\n",
    "              lambda =  (20*5)/20 = 5\n",
    " \n",
    " Probability that the region has no rain drops in 3 second time interval:\n",
    " Let x be the random variable\n",
    " # P(X= 0) = ((e^(-lambda)) * lambda^x)/x!\n",
    " #              =  e^(-5)*1(since anything power zero is 1 and 0 factorial is 1)\n",
    " #              =  e^(-5)\n",
    "                          "
   ]
  },
  {
   "cell_type": "markdown",
   "metadata": {},
   "source": [
    "# 2.\tLet X be a random day of the week, coded so that Monday is 1, Tuesday is 2, etc. (so X takes values 1, 2,..., 7, with equal probabilities). Let Y be the next day after X (again represented as an integer between 1 and 7). Do X and Y have the same distribution? What is P(X)"
   ]
  },
  {
   "cell_type": "markdown",
   "metadata": {},
   "source": [
    "A week has 7 days;so X and Y can take values from 1 to 7 \n",
    "But from the problem statement Y is next day after X  means always X<Y\n",
    "   X : 1,2,3,4,5,6\n",
    "   Y : 2,3,4,5,6,7\n",
    "  P(X):1/7,1/7,1/7,1/7,1/7,1/7\n",
    "  P(Y):1/7,1/7,1/7,1/7,1/7,1/7    \n",
    "Yes X and Y have same distribution                                                                       \n",
    "# P(X) = 1/7 + 1/7 + 1/7 + 1/7 + 1/7 + 1/7 \n",
    "#      = 6/7"
   ]
  }
 ],
 "metadata": {
  "kernelspec": {
   "display_name": "Python 3",
   "language": "python",
   "name": "python3"
  },
  "language_info": {
   "codemirror_mode": {
    "name": "ipython",
    "version": 3
   },
   "file_extension": ".py",
   "mimetype": "text/x-python",
   "name": "python",
   "nbconvert_exporter": "python",
   "pygments_lexer": "ipython3",
   "version": "3.8.3"
  }
 },
 "nbformat": 4,
 "nbformat_minor": 4
}
