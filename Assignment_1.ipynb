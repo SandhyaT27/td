{
 "cells": [
  {
   "cell_type": "markdown",
   "metadata": {},
   "source": [
    "1.\tHarvard Law School courses often have assigned seating to facilitate the “Socratic method.” Suppose that there are 100 first year Harvard Law students, and each takes two courses: Torts and Contracts. Both are held in the same lecture hall (which has 100 seats), and the seating is uniformly random and independent for the two courses. \n",
    "(a) Find the probability that no one has the same seat for both courses (exactly; you should   leave your answer as a sum). \n"
   ]
  },
  {
   "cell_type": "code",
   "execution_count": null,
   "metadata": {},
   "outputs": [],
   "source": [
    "X is the marks that the number of students that take the same seat i both the classes\n",
    "P(X=0)=1-P(X>=1)\n",
    "The probability that first j students sit on their seats is : (100-j)!/100!\n",
    "    P(X=0) can be calculated"
   ]
  },
  {
   "cell_type": "markdown",
   "metadata": {},
   "source": [
    "(b) Find a simple but accurate approximation to the probability that no one has the same seat for both courses. "
   ]
  },
  {
   "cell_type": "code",
   "execution_count": null,
   "metadata": {},
   "outputs": [],
   "source": [
    "We approximate X with poisson distribution:\n",
    "    P(X=0)=e^-1=0.37"
   ]
  },
  {
   "cell_type": "markdown",
   "metadata": {},
   "source": [
    "(c) Find a simple but accurate approximation to the probability that at least two students have the same seat for both courses.\n"
   ]
  },
  {
   "cell_type": "code",
   "execution_count": null,
   "metadata": {},
   "outputs": [],
   "source": [
    "Using Poisson approximation:\n",
    "    P(X>=2)=1-P(X=0)-P(X=1)=0.26"
   ]
  },
  {
   "cell_type": "markdown",
   "metadata": {},
   "source": [
    "2.\tThere are 100 passengers lined up to board an airplane with 100 seats (with each seat assigned to one of the passengers). The first passenger in line crazily decides to sit in a randomly chosen seat (with all seats equally likely). Each subsequent passenger takes his or her assigned seat if available, and otherwise sits in a random available seat. What is the probability that the last passenger in line gets to sit in his or her assigned seat?"
   ]
  },
  {
   "cell_type": "markdown",
   "metadata": {},
   "source": [
    "The answer is 1 /2 . Let A and B be the seats of the first and last passengers, respectively. First notice that if a passenger ever sits in A, then the passengers who have entered the plane so far will be sitting in a permutation of their assigned seats. This implies that passengers who subsequently board the plane sit in their correct seats. Thus the last open seat is either A or B and the last passenger to board the plane sits in either A or B. Therefore the passengers sitting in A and B at the end of this process must be the last passenger and another passenger P. When the passenger P boarded the plane, he or she was either the first passenger or had been assigned an occupied seat. In either case, the probability that P sat in A is the same as the probability P sat in B since A and B must both be empty at that time. If P sat in A then the last passenger ended up sitting in B and the resulting configuration of passengers sitting in the 100 seats is the same as if P had sat in B except for the fact that the passengers in A and B are swapped. Therefore these two configurations occur with the same probability and exactly one of them has the last passenger in her seat B. This implies that the final configurations of passengers can be paired such that the two configurations in any pair occur with the same probability and exactly one has the last passenger in her seat. This implies that the probability that the last passenger is in her seat is 1/ 2 ."
   ]
  }
 ],
 "metadata": {
  "kernelspec": {
   "display_name": "Python 3",
   "language": "python",
   "name": "python3"
  },
  "language_info": {
   "codemirror_mode": {
    "name": "ipython",
    "version": 3
   },
   "file_extension": ".py",
   "mimetype": "text/x-python",
   "name": "python",
   "nbconvert_exporter": "python",
   "pygments_lexer": "ipython3",
   "version": "3.8.3"
  }
 },
 "nbformat": 4,
 "nbformat_minor": 4
}
