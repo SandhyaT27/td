{
 "cells": [
  {
   "cell_type": "markdown",
   "metadata": {},
   "source": [
    "1.\tYou are going to play 2 games of chess with an opponent whom you have never played against before (for the sake of this problem). Your opponent is equally likely to be a beginner, intermediate, or a master. Depending on \n",
    "(a) What is your probability of winning the first game? \n"
   ]
  },
  {
   "cell_type": "code",
   "execution_count": null,
   "metadata": {},
   "outputs": [],
   "source": [
    "Let chances of winning game are 90%,50%,30% respectively\n",
    "Wi be the event  of winning ith game.By the law of total probability:\n",
    "    P(W1)=(0.9+0.5+0.3)/(3)\n",
    "    P(W1)=17/30\n",
    "    "
   ]
  },
  {
   "cell_type": "markdown",
   "metadata": {},
   "source": [
    "(b) Congratulations: you won the first game! Given this information, what is the probability that you will also win the second game"
   ]
  },
  {
   "cell_type": "code",
   "execution_count": null,
   "metadata": {},
   "outputs": [],
   "source": [
    "P(W2/W1)=P(W2,W1)/P(W1)\n",
    "Denominator = 17/30(from a above).....(a)\n",
    "Numerator=((0.9)^2+(0.5)^2+(0.3)^2)/3\n",
    "         = 23/60 ....(b)\n",
    "P(W2/w1)=(a)/(b)\n",
    "        = 23/34"
   ]
  },
  {
   "cell_type": "markdown",
   "metadata": {},
   "source": [
    "(c) Explain the distinction between assuming that the outcomes of the games are independent and assuming that they are conditionally independent given the opponent’s skill level. Which of these assumptions seems more reasonable, and why?\n",
    "\n"
   ]
  },
  {
   "cell_type": "markdown",
   "metadata": {},
   "source": [
    "Independence here means that knowing one game’s outcome gives no information about the other game’s outcome, while conditional independence is the same statement where all probabilities are conditional on the opponent’s skill level. Conditional independence given the opponent’s skill level is a more reasonable assumption here. This is because winning the first game gives information about the opponent’s skill level, which in turn gives information about the result of the second game. That is, if the opponent’s skill level is treated as fixed and known, then it may be reasonable to assume independence of games given this information; with the opponent’s skill level random, earlier games can be used to help infer the opponent’s skill level, which affects the probabilities for future games."
   ]
  }
 ],
 "metadata": {
  "kernelspec": {
   "display_name": "Python 3",
   "language": "python",
   "name": "python3"
  },
  "language_info": {
   "codemirror_mode": {
    "name": "ipython",
    "version": 3
   },
   "file_extension": ".py",
   "mimetype": "text/x-python",
   "name": "python",
   "nbconvert_exporter": "python",
   "pygments_lexer": "ipython3",
   "version": "3.8.3"
  }
 },
 "nbformat": 4,
 "nbformat_minor": 4
}
