{
 "cells": [
  {
   "cell_type": "markdown",
   "metadata": {},
   "source": [
    "1.\tGive an example of 3 events A, B, C which are pairwise independent but not independent. Hint: find an example where whether C occurs is completely determined if we know whether A occurred and whether B occurred, but completely undetermined if we know only one of these things."
   ]
  },
  {
   "cell_type": "markdown",
   "metadata": {},
   "source": [
    "A : sum=7 when die is thrown\n",
    "B : when die is rolled 3 shows up\n",
    "C : when die is rolled shows 4\n",
    "P(A)=P(B)=P(C)=1/6\n",
    "P[A ∩ B] = P[A ∩ C] = P[B ∩ C] = 1/ 36   ...>all events are pairwise independent\n",
    "But\n",
    "P[A ∩ B ∩ C] = P[B ∩ C] = 1 /36\n",
    "P[A]P[B]P[C] = 1 /216\n",
    "\n",
    "\n",
    "Hence proved\n"
   ]
  },
  {
   "cell_type": "markdown",
   "metadata": {},
   "source": [
    "2.\tA bag contains one marble which is either green or blue, with equal probabilities. A green marble is put in the bag (so there are 2 marbles now), and then a random marble is taken out. The marble taken out is green. What is the probability that the remaining marble is also green?\n"
   ]
  },
  {
   "cell_type": "markdown",
   "metadata": {},
   "source": [
    "G : event  that the initial marble is green,\n",
    "T : event that the removed marble is green, and \n",
    "C : event that the remaining marble is green. \n",
    "We need to find P(C|B). \n",
    "P(C|T)=P(C|TG)P(G|T) + P(C|TG^c)P(G^c|T)    (^c=complement)\n",
    "P(C|T)=1*P(G|T)+0=P(G|T)\n",
    "Using Bayes formula:\n",
    "P(G|T)=(P(T|G)*P(G))/P(T)\n",
    "P(G|T)=0.5/(0.5+0.25)\n",
    "P(G|T)=2/3\n",
    "        \n"
   ]
  }
 ],
 "metadata": {
  "kernelspec": {
   "display_name": "Python 3",
   "language": "python",
   "name": "python3"
  },
  "language_info": {
   "codemirror_mode": {
    "name": "ipython",
    "version": 3
   },
   "file_extension": ".py",
   "mimetype": "text/x-python",
   "name": "python",
   "nbconvert_exporter": "python",
   "pygments_lexer": "ipython3",
   "version": "3.8.3"
  }
 },
 "nbformat": 4,
 "nbformat_minor": 4
}
