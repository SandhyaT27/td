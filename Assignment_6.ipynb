{
 "cells": [
  {
   "cell_type": "markdown",
   "metadata": {},
   "source": [
    "1.\tA group of n 2 people decide to play an exciting game of Rock-Paper Scissors. As you may recall, Rock smashes Scissors, Scissors cuts Paper, and Paper covers Rock (despite Bart Simpson saying “Good old rock, nothing beats that!”). Usually, this game is played with 2 players, but it can be extended to more players as follows. If exactly 2 of the 3 choices appear when everyone reveals their choice, say a, b 2 {Rock, P aper, Scissors} where a beats b, the game is decisive: the players who chose a win, and the players who chose b lose. Otherwise, the game is indecisive and the players play again. For example, with 5 players, if one player picks Rock, two pick Scissors, and two pick Paper, the round is indecisive and they play again. But if 3 pick Rock and 2 pick Scissors, then the Rock players win and the Scissors players lose the game. 1 Assume that the n players independently and randomly choose between Rock, Scissors, and Paper, with equal probabilities. Let X, Y, Z be the number of players who pick Rock, Scissors, Paper, respectively in one game. \n",
    "(a) Find the joint PMF of X, Y, Z. \n",
    "\n"
   ]
  },
  {
   "cell_type": "code",
   "execution_count": null,
   "metadata": {},
   "outputs": [],
   "source": [
    "The joint distribution of X,Y,Z is \n",
    "P(X = a, Y = b, Z = c) = n! |(a!b!c!) (1| 3)^(a+b+c)\n",
    "where a, b, c are any nonnegative integers with a+b+c = n, since (1/3)^a+b+c is the probability of any specific configuration \n",
    "of choices for each player with the right numbers in each category, and the coecient in front counts the number of distinct\n",
    "ways to permute such a configuration.\n",
    "Hence Joint PMF can be found out.This is Multinomial distribution"
   ]
  },
  {
   "cell_type": "code",
   "execution_count": null,
   "metadata": {},
   "outputs": [],
   "source": [
    "(b) Find the probability that the game is decisive. Simplify your answer (it should not involve a sum of many terms). "
   ]
  },
  {
   "cell_type": "code",
   "execution_count": null,
   "metadata": {},
   "outputs": [],
   "source": [
    "The game is decisive iff  exactly one of X,Y,Z is 0.These cases are disjoint,so,by symmetry,the probability is 3 times the\n",
    "probability that X is Zero and Y,Z are non zero.\n",
    "If X=0,Y=k and Z= n-k\n",
    "P(Decisive)=(2^n)-2/3^(n-1)\n",
    "when n=2,P(Decisive)=2/3\n",
    "The game is decisive iff 2 players do not pick the same choice"
   ]
  },
  {
   "cell_type": "markdown",
   "metadata": {},
   "source": [
    "(c) What is the probability that the game is decisive for n = 5? What is the limiting probability that a game is decisive as n ! 1? Explain briefly why your answer makes sense.\n",
    "\n"
   ]
  },
  {
   "cell_type": "code",
   "execution_count": null,
   "metadata": {},
   "outputs": [],
   "source": [
    "For n=5,Probability = 30/81=0.37\n",
    "as n tends to infinity prob is zero which makes sense if the number of players is very large,it is very likely that there will \n",
    "be atleast one of each of Rock,Paper and Scissors"
   ]
  }
 ],
 "metadata": {
  "kernelspec": {
   "display_name": "Python 3",
   "language": "python",
   "name": "python3"
  },
  "language_info": {
   "codemirror_mode": {
    "name": "ipython",
    "version": 3
   },
   "file_extension": ".py",
   "mimetype": "text/x-python",
   "name": "python",
   "nbconvert_exporter": "python",
   "pygments_lexer": "ipython3",
   "version": "3.8.3"
  }
 },
 "nbformat": 4,
 "nbformat_minor": 4
}
