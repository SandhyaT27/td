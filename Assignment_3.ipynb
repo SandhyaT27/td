{
 "cells": [
  {
   "cell_type": "markdown",
   "metadata": {},
   "source": [
    "1.\tFor a group of 7 people, find the probability that all 4 seasons (winter, spring, summer, fall) occur at least once each among their birthdays, assuming that all seasons are equally likely."
   ]
  },
  {
   "cell_type": "code",
   "execution_count": null,
   "metadata": {},
   "outputs": [],
   "source": [
    "Total outcomes = 4^8.....(1)\n",
    "No of outcomes that one or more season has no student having their birthday = 4C1*3^8 - 4C2*2^8 + 4C3*1^8 .....(2)\n",
    "Probability that one or more season has no student having their bday =(2)/(1)\n",
    "                                                                    =0.377\n",
    "    Required Prob that all 4 seasons occur atleast once each among birthdays : 1-0.377=0.623\n"
   ]
  },
  {
   "cell_type": "markdown",
   "metadata": {},
   "source": [
    "2.\tAlice attends a small college in which each class meets only once a week. She is deciding between 30 non-overlapping classes. There are 6 classes to choose from for each day of the week, Monday through Friday. Trusting in the benevolence of randomness, Alice decides to register for 7 randomly selected classes out of the 30, with all choices equally likely. What is the probability that she will have classes every day, Monday through Friday?"
   ]
  },
  {
   "cell_type": "code",
   "execution_count": null,
   "metadata": {},
   "outputs": [],
   "source": [
    "The ways are:\n",
    "either 2 days with 2 classes\n",
    "       3 days with 1 class\n",
    "       1 day with 3 classes\n",
    "       1 class on each of other 4 days\n",
    "After calcuulating the probability = 114/377=0.302\n",
    "        \n",
    "    "
   ]
  }
 ],
 "metadata": {
  "kernelspec": {
   "display_name": "Python 3",
   "language": "python",
   "name": "python3"
  },
  "language_info": {
   "codemirror_mode": {
    "name": "ipython",
    "version": 3
   },
   "file_extension": ".py",
   "mimetype": "text/x-python",
   "name": "python",
   "nbconvert_exporter": "python",
   "pygments_lexer": "ipython3",
   "version": "3.8.3"
  }
 },
 "nbformat": 4,
 "nbformat_minor": 4
}
